{
 "cells": [
  {
   "cell_type": "code",
   "execution_count": 1,
   "id": "c2b1de89",
   "metadata": {},
   "outputs": [],
   "source": [
    "import pandas as pd\n",
    "import numpy as np\n",
    "import random as rd\n",
    "import matplotlib.pyplot as plt\n",
    "from sklearn.cluster import KMeans"
   ]
  },
  {
   "cell_type": "code",
   "execution_count": 2,
   "id": "1a58c355",
   "metadata": {},
   "outputs": [
    {
     "data": {
      "text/html": [
       "<div>\n",
       "<style scoped>\n",
       "    .dataframe tbody tr th:only-of-type {\n",
       "        vertical-align: middle;\n",
       "    }\n",
       "\n",
       "    .dataframe tbody tr th {\n",
       "        vertical-align: top;\n",
       "    }\n",
       "\n",
       "    .dataframe thead th {\n",
       "        text-align: right;\n",
       "    }\n",
       "</style>\n",
       "<table border=\"1\" class=\"dataframe\">\n",
       "  <thead>\n",
       "    <tr style=\"text-align: right;\">\n",
       "      <th></th>\n",
       "      <th>usuario_id</th>\n",
       "      <th>cookies_enabled</th>\n",
       "      <th>device_memory</th>\n",
       "      <th>hardware_concurrency</th>\n",
       "      <th>ip</th>\n",
       "      <th>languages</th>\n",
       "      <th>local_storage</th>\n",
       "      <th>platform</th>\n",
       "      <th>session_storage</th>\n",
       "      <th>timezone</th>\n",
       "      <th>touch_support</th>\n",
       "      <th>browser</th>\n",
       "      <th>browser_version</th>\n",
       "      <th>gpu</th>\n",
       "      <th>hash</th>\n",
       "      <th>score</th>\n",
       "    </tr>\n",
       "  </thead>\n",
       "  <tbody>\n",
       "    <tr>\n",
       "      <th>0</th>\n",
       "      <td>1</td>\n",
       "      <td>False</td>\n",
       "      <td>8</td>\n",
       "      <td>2</td>\n",
       "      <td>137.183.95.242</td>\n",
       "      <td>pt-BR</td>\n",
       "      <td>True</td>\n",
       "      <td>Windows 10</td>\n",
       "      <td>True</td>\n",
       "      <td>America/Sao_Paulo</td>\n",
       "      <td>False</td>\n",
       "      <td>Chrome</td>\n",
       "      <td>95.0.4638</td>\n",
       "      <td>nvidia evga geforce gtx 970</td>\n",
       "      <td>1gd7abb2e497c9f5a00ff94da5dc9e2</td>\n",
       "      <td>0.5660</td>\n",
       "    </tr>\n",
       "    <tr>\n",
       "      <th>1</th>\n",
       "      <td>2</td>\n",
       "      <td>False</td>\n",
       "      <td>4</td>\n",
       "      <td>4</td>\n",
       "      <td>34.131.211.72</td>\n",
       "      <td>pt-BR</td>\n",
       "      <td>True</td>\n",
       "      <td>Windows 8</td>\n",
       "      <td>True</td>\n",
       "      <td>America/Sao_Paulo</td>\n",
       "      <td>False</td>\n",
       "      <td>Firefox</td>\n",
       "      <td>80.0.4170</td>\n",
       "      <td>amd radeon rx 560</td>\n",
       "      <td>1adl54148eac5h2035mbf91h81e8i</td>\n",
       "      <td>0.0600</td>\n",
       "    </tr>\n",
       "    <tr>\n",
       "      <th>2</th>\n",
       "      <td>3</td>\n",
       "      <td>False</td>\n",
       "      <td>8</td>\n",
       "      <td>2</td>\n",
       "      <td>201.98.244.196</td>\n",
       "      <td>pt-BR</td>\n",
       "      <td>True</td>\n",
       "      <td>Windows 10</td>\n",
       "      <td>True</td>\n",
       "      <td>America/Sao_Paulo</td>\n",
       "      <td>False</td>\n",
       "      <td>Chrome</td>\n",
       "      <td>95.0.4638</td>\n",
       "      <td>nvidia evga geforce gtx 970</td>\n",
       "      <td>e09c80c42fda55f9d992e59ca6b3307d</td>\n",
       "      <td>0.1230</td>\n",
       "    </tr>\n",
       "    <tr>\n",
       "      <th>3</th>\n",
       "      <td>4</td>\n",
       "      <td>True</td>\n",
       "      <td>4</td>\n",
       "      <td>2</td>\n",
       "      <td>107.5.15.1</td>\n",
       "      <td>pt-BR</td>\n",
       "      <td>True</td>\n",
       "      <td>Windows 10</td>\n",
       "      <td>True</td>\n",
       "      <td>America/Sao_Paulo</td>\n",
       "      <td>False</td>\n",
       "      <td>Edge</td>\n",
       "      <td>80.0.4170</td>\n",
       "      <td>amd radeon rx 560</td>\n",
       "      <td>1gd7abb2e497c9f5a00ff94da5dc9e2</td>\n",
       "      <td>0.7265</td>\n",
       "    </tr>\n",
       "    <tr>\n",
       "      <th>4</th>\n",
       "      <td>5</td>\n",
       "      <td>True</td>\n",
       "      <td>2</td>\n",
       "      <td>6</td>\n",
       "      <td>251.203.64.179</td>\n",
       "      <td>pt-BR</td>\n",
       "      <td>False</td>\n",
       "      <td>Windows 8</td>\n",
       "      <td>True</td>\n",
       "      <td>America/Sao_Paulo</td>\n",
       "      <td>False</td>\n",
       "      <td>Firefox</td>\n",
       "      <td>80.0.4170</td>\n",
       "      <td>amd radeon rx 560</td>\n",
       "      <td>1gd7abb2e497c9f5a00ff94da5dc9e2</td>\n",
       "      <td>0.6250</td>\n",
       "    </tr>\n",
       "  </tbody>\n",
       "</table>\n",
       "</div>"
      ],
      "text/plain": [
       "   usuario_id  cookies_enabled  device_memory  hardware_concurrency  \\\n",
       "0           1            False              8                     2   \n",
       "1           2            False              4                     4   \n",
       "2           3            False              8                     2   \n",
       "3           4             True              4                     2   \n",
       "4           5             True              2                     6   \n",
       "\n",
       "               ip languages  local_storage    platform  session_storage  \\\n",
       "0  137.183.95.242     pt-BR           True  Windows 10             True   \n",
       "1   34.131.211.72     pt-BR           True   Windows 8             True   \n",
       "2  201.98.244.196     pt-BR           True  Windows 10             True   \n",
       "3      107.5.15.1     pt-BR           True  Windows 10             True   \n",
       "4  251.203.64.179     pt-BR          False   Windows 8             True   \n",
       "\n",
       "            timezone  touch_support  browser browser_version  \\\n",
       "0  America/Sao_Paulo          False   Chrome       95.0.4638   \n",
       "1  America/Sao_Paulo          False  Firefox       80.0.4170   \n",
       "2  America/Sao_Paulo          False   Chrome       95.0.4638   \n",
       "3  America/Sao_Paulo          False     Edge       80.0.4170   \n",
       "4  America/Sao_Paulo          False  Firefox       80.0.4170   \n",
       "\n",
       "                           gpu                              hash   score  \n",
       "0  nvidia evga geforce gtx 970   1gd7abb2e497c9f5a00ff94da5dc9e2  0.5660  \n",
       "1            amd radeon rx 560     1adl54148eac5h2035mbf91h81e8i  0.0600  \n",
       "2  nvidia evga geforce gtx 970  e09c80c42fda55f9d992e59ca6b3307d  0.1230  \n",
       "3            amd radeon rx 560   1gd7abb2e497c9f5a00ff94da5dc9e2  0.7265  \n",
       "4            amd radeon rx 560   1gd7abb2e497c9f5a00ff94da5dc9e2  0.6250  "
      ]
     },
     "execution_count": 2,
     "metadata": {},
     "output_type": "execute_result"
    }
   ],
   "source": [
    "data = pd.read_csv(\"dados100-final.csv\", delimiter=\";\")\n",
    "data.head()"
   ]
  },
  {
   "cell_type": "code",
   "execution_count": 3,
   "id": "3d7d0aca",
   "metadata": {},
   "outputs": [
    {
     "name": "stdout",
     "output_type": "stream",
     "text": [
      "Index([False, True], dtype='object')\n",
      "[0 1]\n"
     ]
    }
   ],
   "source": [
    "# factorize – codifica os valores categóricos – árvore de decisão do Python precisa de dados numéricos\n",
    "data['cookies_enabled'],class_names = pd.factorize(data['cookies_enabled']) # Nao=0; Sim=1\n",
    "print(class_names)\n",
    "print(data['cookies_enabled'].unique())"
   ]
  },
  {
   "cell_type": "code",
   "execution_count": 4,
   "id": "03df2405",
   "metadata": {},
   "outputs": [
    {
     "name": "stdout",
     "output_type": "stream",
     "text": [
      "[0 1 2 3 4 5]\n"
     ]
    }
   ],
   "source": [
    "data['device_memory'],_ = pd.factorize(data['device_memory']) # Medio=0; Baixo=1; Alto=2\n",
    "print(data['device_memory'].unique())"
   ]
  },
  {
   "cell_type": "code",
   "execution_count": 5,
   "id": "cd0f3e4e",
   "metadata": {},
   "outputs": [
    {
     "name": "stdout",
     "output_type": "stream",
     "text": [
      "[0 1 2 3 4 5 6]\n"
     ]
    }
   ],
   "source": [
    "data['hardware_concurrency'],_ = pd.factorize(data['hardware_concurrency']) # Medio=0; Baixo=1; Alto=2\n",
    "print(data['hardware_concurrency'].unique())"
   ]
  },
  {
   "cell_type": "code",
   "execution_count": 6,
   "id": "7f7f53d4",
   "metadata": {},
   "outputs": [
    {
     "name": "stdout",
     "output_type": "stream",
     "text": [
      "[ 0  1  2  3  4  5  6  7  8  9 10 11 12 13 14 15 16 17 18 19 20 21 22 23\n",
      " 24 25 26 27 28 29 30 31 32 33 34 35 36 37 38 39 40 41 42 43 44 45 46 47\n",
      " 48 49 50 51 52 53 54 55 56 57 58 59 60 61 62 63 64 65 66 67 68 69 70 71\n",
      " 72 73 74 75 76 77 78 79 80 81 82 83 84 85 86 87 88 89]\n"
     ]
    }
   ],
   "source": [
    "data['ip'],_ = pd.factorize(data['ip']) # Medio=0; Baixo=1; Alto=2\n",
    "print(data['ip'].unique())"
   ]
  },
  {
   "cell_type": "code",
   "execution_count": 7,
   "id": "8cd479d7",
   "metadata": {},
   "outputs": [
    {
     "name": "stdout",
     "output_type": "stream",
     "text": [
      "[ 0  1  2  3  4  5  6  7  8  9 10 11]\n"
     ]
    }
   ],
   "source": [
    "data['languages'],_ = pd.factorize(data['languages']) # Medio=0; Baixo=1; Alto=2\n",
    "print(data['languages'].unique())"
   ]
  },
  {
   "cell_type": "code",
   "execution_count": 8,
   "id": "d2b16fc7",
   "metadata": {},
   "outputs": [
    {
     "name": "stdout",
     "output_type": "stream",
     "text": [
      "[0 1]\n"
     ]
    }
   ],
   "source": [
    "data['local_storage'],_ = pd.factorize(data['local_storage']) # Medio=0; Baixo=1; Alto=2\n",
    "print(data['local_storage'].unique())"
   ]
  },
  {
   "cell_type": "code",
   "execution_count": 9,
   "id": "f50c1a8d",
   "metadata": {},
   "outputs": [
    {
     "name": "stdout",
     "output_type": "stream",
     "text": [
      "[ 0  1  2  3  4  5  6  7  8  9 10 11]\n"
     ]
    }
   ],
   "source": [
    "data['platform'],_ = pd.factorize(data['platform']) # Medio=0; Baixo=1; Alto=2\n",
    "print(data['platform'].unique())"
   ]
  },
  {
   "cell_type": "code",
   "execution_count": 10,
   "id": "9a1ab668",
   "metadata": {},
   "outputs": [
    {
     "name": "stdout",
     "output_type": "stream",
     "text": [
      "[0 1]\n"
     ]
    }
   ],
   "source": [
    "data['session_storage'],_ = pd.factorize(data['session_storage']) # Medio=0; Baixo=1; Alto=2\n",
    "print(data['session_storage'].unique())"
   ]
  },
  {
   "cell_type": "code",
   "execution_count": 11,
   "id": "9733e3a9",
   "metadata": {},
   "outputs": [
    {
     "name": "stdout",
     "output_type": "stream",
     "text": [
      "[ 0  1  2  3  4  5  6  7  8  9 10 11 12 13 14 15 16 17 18 19 20 21 22 23\n",
      " 24 25 26 27 28 29 30 31 32 33 34 35 36 37 38 39 40 41 42 43 44 45 46 47]\n"
     ]
    }
   ],
   "source": [
    "data['timezone'],_ = pd.factorize(data['timezone']) # Medio=0; Baixo=1; Alto=2\n",
    "print(data['timezone'].unique())"
   ]
  },
  {
   "cell_type": "code",
   "execution_count": 12,
   "id": "910d3ec7",
   "metadata": {},
   "outputs": [
    {
     "name": "stdout",
     "output_type": "stream",
     "text": [
      "[0 1]\n"
     ]
    }
   ],
   "source": [
    "data['touch_support'],_ = pd.factorize(data['touch_support']) # Medio=0; Baixo=1; Alto=2\n",
    "print(data['touch_support'].unique())"
   ]
  },
  {
   "cell_type": "code",
   "execution_count": 13,
   "id": "53af0eb4",
   "metadata": {},
   "outputs": [
    {
     "name": "stdout",
     "output_type": "stream",
     "text": [
      "[0 1 2 3 4 5]\n"
     ]
    }
   ],
   "source": [
    "data['browser'],_ = pd.factorize(data['browser']) # Medio=0; Baixo=1; Alto=2\n",
    "print(data['browser'].unique())"
   ]
  },
  {
   "cell_type": "code",
   "execution_count": 14,
   "id": "d8a8ac5d",
   "metadata": {},
   "outputs": [
    {
     "name": "stdout",
     "output_type": "stream",
     "text": [
      "[ 0  1  2  3  4  5  6  7  8  9 10 11 12 13 14 15 16 17 18 19 20 21 22 23\n",
      " 24 25 26 27 28 29 30 31 32 33 34 35 36]\n"
     ]
    }
   ],
   "source": [
    "data['browser_version'],_ = pd.factorize(data['browser_version']) # Medio=0; Baixo=1; Alto=2\n",
    "print(data['browser_version'].unique())"
   ]
  },
  {
   "cell_type": "code",
   "execution_count": 15,
   "id": "c99437e5",
   "metadata": {},
   "outputs": [
    {
     "name": "stdout",
     "output_type": "stream",
     "text": [
      "[ 0  1  2  3  4  5  6  7  8  9 10 11 12 13 14 15 16 17 18 19 20 21 22 23\n",
      " 24 25 26 27 28 29 30 31 32 33 34 35 36 37 38 39 40]\n"
     ]
    }
   ],
   "source": [
    "data['gpu'],_ = pd.factorize(data['gpu']) # Medio=0; Baixo=1; Alto=2\n",
    "print(data['gpu'].unique())"
   ]
  },
  {
   "cell_type": "code",
   "execution_count": 16,
   "id": "f3020502",
   "metadata": {},
   "outputs": [
    {
     "name": "stdout",
     "output_type": "stream",
     "text": [
      "[ 0  1  2  3  4  5  6  7  8  9 10 11 12 13 14 15 16 17 18 19 20 21 22 23\n",
      " 24 25 26 27 28 29 30 31 32 33 34 35 36 37 38 39 40]\n"
     ]
    }
   ],
   "source": [
    "data['gpu'],_ = pd.factorize(data['gpu']) # Medio=0; Baixo=1; Alto=2\n",
    "print(data['gpu'].unique())"
   ]
  },
  {
   "cell_type": "code",
   "execution_count": 17,
   "id": "c8ebe857",
   "metadata": {},
   "outputs": [
    {
     "name": "stdout",
     "output_type": "stream",
     "text": [
      "[ 0  1  2  3  4  5  6  7  8  9 10 11 12 13 14 15 16 17 18 19 20 21 22 23\n",
      " 24 25 26 27 28 29 30 31 32 33 34 35 36 37 38 39 40 41 42 43 44 45 46 47\n",
      " 48 49 50 51 52 53 54 55 56 57 58 59 60 61 62 63 64 65 66 67 68 69 70 71\n",
      " 72 73 74 75 76]\n"
     ]
    }
   ],
   "source": [
    "data['hash'],_ = pd.factorize(data['hash']) # Medio=0; Baixo=1; Alto=2\n",
    "print(data['hash'].unique())"
   ]
  },
  {
   "cell_type": "code",
   "execution_count": 18,
   "id": "8b90ce92",
   "metadata": {},
   "outputs": [
    {
     "name": "stdout",
     "output_type": "stream",
     "text": [
      "[ 0  1  2  3  4  5  6  7  8  9 10 11 12 13 14 15 16 17 18 19 20 21 22 23\n",
      " 24 25 26 27 28 29 30 31 32 33 34 35 36 37 38 39 40 41 42 43 44 45 46 47\n",
      " 48 49 50 51 52 53 54 55 56 57 58 59 60 61 62 63 64 65 66 67 68 69 70 71\n",
      " 72 73 74 75 76 77 78 79 80 81 82 83 84 85 86 87 88 89]\n"
     ]
    }
   ],
   "source": [
    "data['score'],_ = pd.factorize(data['score']) # Medio=0; Baixo=1; Alto=2\n",
    "print(data['score'].unique())"
   ]
  },
  {
   "cell_type": "code",
   "execution_count": 23,
   "id": "38065e00",
   "metadata": {
    "scrolled": true
   },
   "outputs": [
    {
     "data": {
      "text/html": [
       "<div>\n",
       "<style scoped>\n",
       "    .dataframe tbody tr th:only-of-type {\n",
       "        vertical-align: middle;\n",
       "    }\n",
       "\n",
       "    .dataframe tbody tr th {\n",
       "        vertical-align: top;\n",
       "    }\n",
       "\n",
       "    .dataframe thead th {\n",
       "        text-align: right;\n",
       "    }\n",
       "</style>\n",
       "<table border=\"1\" class=\"dataframe\">\n",
       "  <thead>\n",
       "    <tr style=\"text-align: right;\">\n",
       "      <th></th>\n",
       "      <th>usuario_id</th>\n",
       "      <th>cookies_enabled</th>\n",
       "      <th>device_memory</th>\n",
       "      <th>hardware_concurrency</th>\n",
       "      <th>ip</th>\n",
       "      <th>languages</th>\n",
       "      <th>local_storage</th>\n",
       "      <th>platform</th>\n",
       "      <th>session_storage</th>\n",
       "      <th>timezone</th>\n",
       "      <th>touch_support</th>\n",
       "      <th>browser</th>\n",
       "      <th>browser_version</th>\n",
       "      <th>gpu</th>\n",
       "      <th>hash</th>\n",
       "      <th>score</th>\n",
       "    </tr>\n",
       "  </thead>\n",
       "  <tbody>\n",
       "    <tr>\n",
       "      <th>0</th>\n",
       "      <td>1</td>\n",
       "      <td>0</td>\n",
       "      <td>0</td>\n",
       "      <td>0</td>\n",
       "      <td>0</td>\n",
       "      <td>0</td>\n",
       "      <td>0</td>\n",
       "      <td>0</td>\n",
       "      <td>0</td>\n",
       "      <td>0</td>\n",
       "      <td>0</td>\n",
       "      <td>0</td>\n",
       "      <td>0</td>\n",
       "      <td>0</td>\n",
       "      <td>0</td>\n",
       "      <td>0</td>\n",
       "    </tr>\n",
       "    <tr>\n",
       "      <th>1</th>\n",
       "      <td>2</td>\n",
       "      <td>0</td>\n",
       "      <td>1</td>\n",
       "      <td>1</td>\n",
       "      <td>1</td>\n",
       "      <td>0</td>\n",
       "      <td>0</td>\n",
       "      <td>1</td>\n",
       "      <td>0</td>\n",
       "      <td>0</td>\n",
       "      <td>0</td>\n",
       "      <td>1</td>\n",
       "      <td>1</td>\n",
       "      <td>1</td>\n",
       "      <td>1</td>\n",
       "      <td>1</td>\n",
       "    </tr>\n",
       "    <tr>\n",
       "      <th>2</th>\n",
       "      <td>3</td>\n",
       "      <td>0</td>\n",
       "      <td>0</td>\n",
       "      <td>0</td>\n",
       "      <td>2</td>\n",
       "      <td>0</td>\n",
       "      <td>0</td>\n",
       "      <td>0</td>\n",
       "      <td>0</td>\n",
       "      <td>0</td>\n",
       "      <td>0</td>\n",
       "      <td>0</td>\n",
       "      <td>0</td>\n",
       "      <td>0</td>\n",
       "      <td>2</td>\n",
       "      <td>2</td>\n",
       "    </tr>\n",
       "    <tr>\n",
       "      <th>3</th>\n",
       "      <td>4</td>\n",
       "      <td>1</td>\n",
       "      <td>1</td>\n",
       "      <td>0</td>\n",
       "      <td>3</td>\n",
       "      <td>0</td>\n",
       "      <td>0</td>\n",
       "      <td>0</td>\n",
       "      <td>0</td>\n",
       "      <td>0</td>\n",
       "      <td>0</td>\n",
       "      <td>2</td>\n",
       "      <td>1</td>\n",
       "      <td>1</td>\n",
       "      <td>0</td>\n",
       "      <td>3</td>\n",
       "    </tr>\n",
       "    <tr>\n",
       "      <th>4</th>\n",
       "      <td>5</td>\n",
       "      <td>1</td>\n",
       "      <td>2</td>\n",
       "      <td>2</td>\n",
       "      <td>4</td>\n",
       "      <td>0</td>\n",
       "      <td>1</td>\n",
       "      <td>1</td>\n",
       "      <td>0</td>\n",
       "      <td>0</td>\n",
       "      <td>0</td>\n",
       "      <td>1</td>\n",
       "      <td>1</td>\n",
       "      <td>1</td>\n",
       "      <td>0</td>\n",
       "      <td>4</td>\n",
       "    </tr>\n",
       "    <tr>\n",
       "      <th>...</th>\n",
       "      <td>...</td>\n",
       "      <td>...</td>\n",
       "      <td>...</td>\n",
       "      <td>...</td>\n",
       "      <td>...</td>\n",
       "      <td>...</td>\n",
       "      <td>...</td>\n",
       "      <td>...</td>\n",
       "      <td>...</td>\n",
       "      <td>...</td>\n",
       "      <td>...</td>\n",
       "      <td>...</td>\n",
       "      <td>...</td>\n",
       "      <td>...</td>\n",
       "      <td>...</td>\n",
       "      <td>...</td>\n",
       "    </tr>\n",
       "    <tr>\n",
       "      <th>95</th>\n",
       "      <td>96</td>\n",
       "      <td>0</td>\n",
       "      <td>1</td>\n",
       "      <td>0</td>\n",
       "      <td>88</td>\n",
       "      <td>10</td>\n",
       "      <td>0</td>\n",
       "      <td>3</td>\n",
       "      <td>0</td>\n",
       "      <td>45</td>\n",
       "      <td>1</td>\n",
       "      <td>0</td>\n",
       "      <td>3</td>\n",
       "      <td>32</td>\n",
       "      <td>73</td>\n",
       "      <td>86</td>\n",
       "    </tr>\n",
       "    <tr>\n",
       "      <th>96</th>\n",
       "      <td>97</td>\n",
       "      <td>0</td>\n",
       "      <td>1</td>\n",
       "      <td>0</td>\n",
       "      <td>88</td>\n",
       "      <td>10</td>\n",
       "      <td>0</td>\n",
       "      <td>3</td>\n",
       "      <td>0</td>\n",
       "      <td>45</td>\n",
       "      <td>1</td>\n",
       "      <td>0</td>\n",
       "      <td>3</td>\n",
       "      <td>32</td>\n",
       "      <td>73</td>\n",
       "      <td>87</td>\n",
       "    </tr>\n",
       "    <tr>\n",
       "      <th>97</th>\n",
       "      <td>98</td>\n",
       "      <td>1</td>\n",
       "      <td>5</td>\n",
       "      <td>1</td>\n",
       "      <td>83</td>\n",
       "      <td>11</td>\n",
       "      <td>0</td>\n",
       "      <td>3</td>\n",
       "      <td>1</td>\n",
       "      <td>46</td>\n",
       "      <td>1</td>\n",
       "      <td>0</td>\n",
       "      <td>19</td>\n",
       "      <td>40</td>\n",
       "      <td>74</td>\n",
       "      <td>88</td>\n",
       "    </tr>\n",
       "    <tr>\n",
       "      <th>98</th>\n",
       "      <td>99</td>\n",
       "      <td>0</td>\n",
       "      <td>1</td>\n",
       "      <td>0</td>\n",
       "      <td>89</td>\n",
       "      <td>11</td>\n",
       "      <td>1</td>\n",
       "      <td>2</td>\n",
       "      <td>1</td>\n",
       "      <td>46</td>\n",
       "      <td>0</td>\n",
       "      <td>0</td>\n",
       "      <td>20</td>\n",
       "      <td>28</td>\n",
       "      <td>75</td>\n",
       "      <td>88</td>\n",
       "    </tr>\n",
       "    <tr>\n",
       "      <th>99</th>\n",
       "      <td>100</td>\n",
       "      <td>1</td>\n",
       "      <td>1</td>\n",
       "      <td>0</td>\n",
       "      <td>89</td>\n",
       "      <td>11</td>\n",
       "      <td>0</td>\n",
       "      <td>0</td>\n",
       "      <td>0</td>\n",
       "      <td>47</td>\n",
       "      <td>0</td>\n",
       "      <td>4</td>\n",
       "      <td>1</td>\n",
       "      <td>28</td>\n",
       "      <td>76</td>\n",
       "      <td>89</td>\n",
       "    </tr>\n",
       "  </tbody>\n",
       "</table>\n",
       "<p>100 rows × 16 columns</p>\n",
       "</div>"
      ],
      "text/plain": [
       "    usuario_id  cookies_enabled  device_memory  hardware_concurrency  ip  \\\n",
       "0            1                0              0                     0   0   \n",
       "1            2                0              1                     1   1   \n",
       "2            3                0              0                     0   2   \n",
       "3            4                1              1                     0   3   \n",
       "4            5                1              2                     2   4   \n",
       "..         ...              ...            ...                   ...  ..   \n",
       "95          96                0              1                     0  88   \n",
       "96          97                0              1                     0  88   \n",
       "97          98                1              5                     1  83   \n",
       "98          99                0              1                     0  89   \n",
       "99         100                1              1                     0  89   \n",
       "\n",
       "    languages  local_storage  platform  session_storage  timezone  \\\n",
       "0           0              0         0                0         0   \n",
       "1           0              0         1                0         0   \n",
       "2           0              0         0                0         0   \n",
       "3           0              0         0                0         0   \n",
       "4           0              1         1                0         0   \n",
       "..        ...            ...       ...              ...       ...   \n",
       "95         10              0         3                0        45   \n",
       "96         10              0         3                0        45   \n",
       "97         11              0         3                1        46   \n",
       "98         11              1         2                1        46   \n",
       "99         11              0         0                0        47   \n",
       "\n",
       "    touch_support  browser  browser_version  gpu  hash  score  \n",
       "0               0        0                0    0     0      0  \n",
       "1               0        1                1    1     1      1  \n",
       "2               0        0                0    0     2      2  \n",
       "3               0        2                1    1     0      3  \n",
       "4               0        1                1    1     0      4  \n",
       "..            ...      ...              ...  ...   ...    ...  \n",
       "95              1        0                3   32    73     86  \n",
       "96              1        0                3   32    73     87  \n",
       "97              1        0               19   40    74     88  \n",
       "98              0        0               20   28    75     88  \n",
       "99              0        4                1   28    76     89  \n",
       "\n",
       "[100 rows x 16 columns]"
      ]
     },
     "execution_count": 23,
     "metadata": {},
     "output_type": "execute_result"
    }
   ],
   "source": [
    "data"
   ]
  },
  {
   "cell_type": "code",
   "execution_count": 24,
   "id": "9a02b780",
   "metadata": {},
   "outputs": [],
   "source": [
    "data.to_csv(\"novaplanilha.csv\")"
   ]
  },
  {
   "cell_type": "code",
   "execution_count": null,
   "id": "9e63c1f1",
   "metadata": {},
   "outputs": [],
   "source": [
    "kmeans = KMeans(n_clusters = 3, init = 'random')\n",
    "kmeans"
   ]
  },
  {
   "cell_type": "code",
   "execution_count": null,
   "id": "3b417db1",
   "metadata": {
    "scrolled": true
   },
   "outputs": [],
   "source": [
    "kmeans.fit(data)\n"
   ]
  },
  {
   "cell_type": "code",
   "execution_count": null,
   "id": "6ab19a97",
   "metadata": {},
   "outputs": [],
   "source": [
    "kmeans.cluster_centers_\n"
   ]
  },
  {
   "cell_type": "code",
   "execution_count": null,
   "id": "c15cdf2b",
   "metadata": {
    "scrolled": true
   },
   "outputs": [],
   "source": [
    "kmeans.fit(data)"
   ]
  },
  {
   "cell_type": "code",
   "execution_count": null,
   "id": "7bbd7625",
   "metadata": {
    "scrolled": true
   },
   "outputs": [],
   "source": [
    "kmeans.cluster_centers_"
   ]
  },
  {
   "cell_type": "code",
   "execution_count": null,
   "id": "b3e3c84d",
   "metadata": {
    "scrolled": true
   },
   "outputs": [],
   "source": [
    "distance = kmeans.fit_transform(data)\n",
    "distance"
   ]
  },
  {
   "cell_type": "code",
   "execution_count": null,
   "id": "4ac3ef2a",
   "metadata": {
    "scrolled": true
   },
   "outputs": [],
   "source": [
    "labels = kmeans.labels_\n",
    "labels"
   ]
  },
  {
   "cell_type": "code",
   "execution_count": null,
   "id": "002eb0e4",
   "metadata": {
    "scrolled": true
   },
   "outputs": [],
   "source": [
    "kmeans.cluster_centers_"
   ]
  },
  {
   "cell_type": "code",
   "execution_count": null,
   "id": "5e748653",
   "metadata": {},
   "outputs": [],
   "source": [
    "wcsse = []\n",
    "maxclusters = 11\n",
    "for i in range(1, maxclusters):\n",
    "    kmeans = KMeans(n_clusters = i, init = 'random')\n",
    "    kmeans.fit(data)\n",
    "    print (i,kmeans.inertia_)\n",
    "    wcsse.append(kmeans.inertia_)"
   ]
  },
  {
   "cell_type": "code",
   "execution_count": null,
   "id": "5dd19246",
   "metadata": {
    "scrolled": true
   },
   "outputs": [],
   "source": [
    "plt.plot(range(1, maxclusters), wcsse)\n",
    "plt.title('Método de Elbow')\n",
    "plt.xlabel('Qtd. de Clusters')\n",
    "plt.grid()\n",
    "plt.ylabel('WCSSE') # Within Cluster Sum of Squares\n",
    "plt.show()"
   ]
  },
  {
   "cell_type": "code",
   "execution_count": null,
   "id": "94117ac3",
   "metadata": {},
   "outputs": [],
   "source": [
    "data.sample(1)"
   ]
  },
  {
   "cell_type": "code",
   "execution_count": null,
   "id": "42496524",
   "metadata": {},
   "outputs": [],
   "source": [
    "X = data[[\"hash\",\"ip\"]]\n",
    "#Visualise data points\n",
    "plt.scatter(X[\"ip\"],X[\"hash\"],c='green')\n",
    "plt.xlabel('ip')\n",
    "plt.ylabel('hash')\n",
    "plt.show()"
   ]
  },
  {
   "cell_type": "code",
   "execution_count": null,
   "id": "93f4401f",
   "metadata": {},
   "outputs": [],
   "source": [
    "# Step 1 and 2 - Choose the number of clusters (k) and select random centroid for each cluster\n",
    "\n",
    "#number of clusters\n",
    "K=3\n",
    "\n",
    "# Select random observation as centroids\n",
    "Centroids = (X.sample(n=K))\n",
    "plt.scatter(X[\"ip\"],X[\"hash\"],c='black')\n",
    "plt.scatter(Centroids[\"ip\"],Centroids[\"hash\"],c='red')\n",
    "plt.xlabel('ip')\n",
    "plt.ylabel('hash')\n",
    "plt.show()"
   ]
  },
  {
   "cell_type": "code",
   "execution_count": null,
   "id": "778cf14f",
   "metadata": {},
   "outputs": [],
   "source": [
    "# Step 3 - Assign all the points to the closest cluster centroid\n",
    "# Step 4 - Recompute centroids of newly formed clusters\n",
    "# Step 5 - Repeat step 3 and 4\n",
    "\n",
    "diff = 1\n",
    "j=0\n",
    "\n",
    "while(diff!=0):\n",
    "    XD=X\n",
    "    i=1\n",
    "    for index1,row_c in Centroids.iterrows():\n",
    "        ED=[]\n",
    "        for index2,row_d in XD.iterrows():\n",
    "            d1=(row_c[\"ip\"]-row_d[\"ip\"])**2\n",
    "            d2=(row_c[\"hash\"]-row_d[\"hash\"])**2\n",
    "            d=np.sqrt(d1+d2)\n",
    "            ED.append(d)\n",
    "        X[i]=ED\n",
    "        i=i+1\n",
    "\n",
    "    C=[]\n",
    "    for index,row in X.iterrows():\n",
    "        min_dist=row[1]\n",
    "        pos=1\n",
    "        for i in range(K):\n",
    "            if row[i+1] < min_dist:\n",
    "                min_dist = row[i+1]\n",
    "                pos=i+1\n",
    "        C.append(pos)\n",
    "    X[\"Cluster\"]=C\n",
    "    Centroids_new = X.groupby([\"Cluster\"]).mean()[[\"hash\",\"ip\"]]\n",
    "    if j == 0:\n",
    "        diff=1\n",
    "        j=j+1\n",
    "    else:\n",
    "        diff = (Centroids_new['hash'] - Centroids['hash']).sum() + (Centroids_new['ip'] - Centroids['ip']).sum()\n",
    "        print(diff.sum())\n",
    "    Centroids = X.groupby([\"Cluster\"]).mean()[[\"hash\",\"ip\"]]"
   ]
  },
  {
   "cell_type": "code",
   "execution_count": null,
   "id": "6a15eef4",
   "metadata": {},
   "outputs": [],
   "source": [
    "color=['blue','green','gray']\n",
    "for k in range(K):\n",
    "    data=X[X[\"Cluster\"]==k+1]\n",
    "    plt.scatter(data[\"ip\"],data[\"hash\"],c=color[k])\n",
    "plt.scatter(Centroids[\"ip\"],Centroids[\"hash\"],c='red')\n",
    "plt.xlabel('ip')\n",
    "plt.ylabel('hash')\n",
    "plt.grid()\n",
    "plt.show()"
   ]
  },
  {
   "cell_type": "code",
   "execution_count": null,
   "id": "35200710",
   "metadata": {},
   "outputs": [],
   "source": [
    "teste = [[115,0,2,2,10,1,1,0,1,5,1,2,10,0,55]]\n",
    "kmeans.predict(teste)"
   ]
  },
  {
   "cell_type": "code",
   "execution_count": null,
   "id": "28419c30",
   "metadata": {},
   "outputs": [],
   "source": [
    "X.shape"
   ]
  },
  {
   "cell_type": "code",
   "execution_count": null,
   "id": "3a4f3ef7",
   "metadata": {},
   "outputs": [],
   "source": [
    "X.head(5)"
   ]
  },
  {
   "cell_type": "code",
   "execution_count": null,
   "id": "8eb1975e",
   "metadata": {},
   "outputs": [],
   "source": [
    "X"
   ]
  },
  {
   "cell_type": "code",
   "execution_count": null,
   "id": "7616458a",
   "metadata": {},
   "outputs": [],
   "source": []
  }
 ],
 "metadata": {
  "kernelspec": {
   "display_name": "Python 3 (ipykernel)",
   "language": "python",
   "name": "python3"
  },
  "language_info": {
   "codemirror_mode": {
    "name": "ipython",
    "version": 3
   },
   "file_extension": ".py",
   "mimetype": "text/x-python",
   "name": "python",
   "nbconvert_exporter": "python",
   "pygments_lexer": "ipython3",
   "version": "3.9.7"
  }
 },
 "nbformat": 4,
 "nbformat_minor": 5
}
