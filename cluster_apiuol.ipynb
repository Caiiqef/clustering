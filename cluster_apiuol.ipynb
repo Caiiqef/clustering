{
 "cells": [
  {
   "cell_type": "code",
   "execution_count": 1,
   "id": "c2b1de89",
   "metadata": {},
   "outputs": [],
   "source": [
    "import pandas as pd\n",
    "import numpy as np\n",
    "import random as rd\n",
    "import matplotlib.pyplot as plt\n",
    "from sklearn.cluster import KMeans"
   ]
  },
  {
   "cell_type": "code",
   "execution_count": 2,
   "id": "1a58c355",
   "metadata": {},
   "outputs": [
    {
     "data": {
      "text/html": [
       "<div>\n",
       "<style scoped>\n",
       "    .dataframe tbody tr th:only-of-type {\n",
       "        vertical-align: middle;\n",
       "    }\n",
       "\n",
       "    .dataframe tbody tr th {\n",
       "        vertical-align: top;\n",
       "    }\n",
       "\n",
       "    .dataframe thead th {\n",
       "        text-align: right;\n",
       "    }\n",
       "</style>\n",
       "<table border=\"1\" class=\"dataframe\">\n",
       "  <thead>\n",
       "    <tr style=\"text-align: right;\">\n",
       "      <th></th>\n",
       "      <th>usuario_id</th>\n",
       "      <th>cookies_enabled</th>\n",
       "      <th>device_memory</th>\n",
       "      <th>hardware_concurrency</th>\n",
       "      <th>ip</th>\n",
       "      <th>languages</th>\n",
       "      <th>local_storage</th>\n",
       "      <th>platform</th>\n",
       "      <th>session_storage</th>\n",
       "      <th>timezone</th>\n",
       "      <th>touch_support</th>\n",
       "      <th>browser</th>\n",
       "      <th>browser_version</th>\n",
       "      <th>gpu</th>\n",
       "      <th>hash</th>\n",
       "    </tr>\n",
       "  </thead>\n",
       "  <tbody>\n",
       "    <tr>\n",
       "      <th>0</th>\n",
       "      <td>1</td>\n",
       "      <td>True</td>\n",
       "      <td>8</td>\n",
       "      <td>12</td>\n",
       "      <td>201.26.163.119</td>\n",
       "      <td>pt-BR</td>\n",
       "      <td>True</td>\n",
       "      <td>Windows 10</td>\n",
       "      <td>True</td>\n",
       "      <td>America/Sao_Paulo</td>\n",
       "      <td>False</td>\n",
       "      <td>opera</td>\n",
       "      <td>81.0.4196</td>\n",
       "      <td>amd radeon rx 560</td>\n",
       "      <td>15n8ddh709kn4gjkkmi9649g99bn</td>\n",
       "    </tr>\n",
       "    <tr>\n",
       "      <th>1</th>\n",
       "      <td>2</td>\n",
       "      <td>True</td>\n",
       "      <td>8</td>\n",
       "      <td>4</td>\n",
       "      <td>200.158.198.60</td>\n",
       "      <td>pt-BR</td>\n",
       "      <td>True</td>\n",
       "      <td>Windows 10</td>\n",
       "      <td>True</td>\n",
       "      <td>America/Sao_Paulo</td>\n",
       "      <td>False</td>\n",
       "      <td>chrome</td>\n",
       "      <td>96.0.4664</td>\n",
       "      <td>nvidia evga geforce gtx 970</td>\n",
       "      <td>1gd7abb2e497c9f5a00ff94da5dc9e2</td>\n",
       "    </tr>\n",
       "    <tr>\n",
       "      <th>2</th>\n",
       "      <td>1</td>\n",
       "      <td>False</td>\n",
       "      <td>8</td>\n",
       "      <td>2</td>\n",
       "      <td>137.183.95.242</td>\n",
       "      <td>pt-BR</td>\n",
       "      <td>True</td>\n",
       "      <td>Windows 10</td>\n",
       "      <td>True</td>\n",
       "      <td>America/Sao_Paulo</td>\n",
       "      <td>False</td>\n",
       "      <td>Chrome</td>\n",
       "      <td>95.0.4638</td>\n",
       "      <td>nvidia evga geforce gtx 970</td>\n",
       "      <td>1gd7abb2e497c9f5a00ff94da5dc9e2</td>\n",
       "    </tr>\n",
       "    <tr>\n",
       "      <th>3</th>\n",
       "      <td>2</td>\n",
       "      <td>False</td>\n",
       "      <td>4</td>\n",
       "      <td>4</td>\n",
       "      <td>34.131.211.72</td>\n",
       "      <td>pt-BR</td>\n",
       "      <td>True</td>\n",
       "      <td>Windows 8</td>\n",
       "      <td>True</td>\n",
       "      <td>America/Sao_Paulo</td>\n",
       "      <td>False</td>\n",
       "      <td>Firefox</td>\n",
       "      <td>80.0.4170</td>\n",
       "      <td>amd radeon rx 560</td>\n",
       "      <td>1adl54148eac5h2035mbf91h81e8i</td>\n",
       "    </tr>\n",
       "    <tr>\n",
       "      <th>4</th>\n",
       "      <td>3</td>\n",
       "      <td>False</td>\n",
       "      <td>8</td>\n",
       "      <td>2</td>\n",
       "      <td>201.98.244.196</td>\n",
       "      <td>pt-BR</td>\n",
       "      <td>True</td>\n",
       "      <td>Windows 10</td>\n",
       "      <td>True</td>\n",
       "      <td>America/Sao_Paulo</td>\n",
       "      <td>False</td>\n",
       "      <td>Chrome</td>\n",
       "      <td>95.0.4638</td>\n",
       "      <td>nvidia evga geforce gtx 970</td>\n",
       "      <td>e09c80c42fda55f9d992e59ca6b3307d</td>\n",
       "    </tr>\n",
       "  </tbody>\n",
       "</table>\n",
       "</div>"
      ],
      "text/plain": [
       "   usuario_id  cookies_enabled  device_memory  hardware_concurrency  \\\n",
       "0           1             True              8                    12   \n",
       "1           2             True              8                     4   \n",
       "2           1            False              8                     2   \n",
       "3           2            False              4                     4   \n",
       "4           3            False              8                     2   \n",
       "\n",
       "               ip languages  local_storage    platform  session_storage  \\\n",
       "0  201.26.163.119     pt-BR           True  Windows 10             True   \n",
       "1  200.158.198.60     pt-BR           True  Windows 10             True   \n",
       "2  137.183.95.242     pt-BR           True  Windows 10             True   \n",
       "3   34.131.211.72     pt-BR           True   Windows 8             True   \n",
       "4  201.98.244.196     pt-BR           True  Windows 10             True   \n",
       "\n",
       "            timezone  touch_support  browser browser_version  \\\n",
       "0  America/Sao_Paulo          False    opera       81.0.4196   \n",
       "1  America/Sao_Paulo          False   chrome       96.0.4664   \n",
       "2  America/Sao_Paulo          False   Chrome       95.0.4638   \n",
       "3  America/Sao_Paulo          False  Firefox       80.0.4170   \n",
       "4  America/Sao_Paulo          False   Chrome       95.0.4638   \n",
       "\n",
       "                           gpu                              hash  \n",
       "0            amd radeon rx 560      15n8ddh709kn4gjkkmi9649g99bn  \n",
       "1  nvidia evga geforce gtx 970   1gd7abb2e497c9f5a00ff94da5dc9e2  \n",
       "2  nvidia evga geforce gtx 970   1gd7abb2e497c9f5a00ff94da5dc9e2  \n",
       "3            amd radeon rx 560     1adl54148eac5h2035mbf91h81e8i  \n",
       "4  nvidia evga geforce gtx 970  e09c80c42fda55f9d992e59ca6b3307d  "
      ]
     },
     "execution_count": 2,
     "metadata": {},
     "output_type": "execute_result"
    }
   ],
   "source": [
    "data = pd.read_csv(\"dados100-final.csv\", delimiter=\",\")\n",
    "data.head()"
   ]
  },
  {
   "cell_type": "code",
   "execution_count": 3,
   "id": "3d7d0aca",
   "metadata": {},
   "outputs": [
    {
     "name": "stdout",
     "output_type": "stream",
     "text": [
      "Index([True, False], dtype='object')\n",
      "[0 1]\n"
     ]
    }
   ],
   "source": [
    "# factorize – codifica os valores categóricos – árvore de decisão do Python precisa de dados numéricos\n",
    "data['cookies_enabled'],class_names = pd.factorize(data['cookies_enabled']) # Nao=0; Sim=1\n",
    "print(class_names)\n",
    "print(data['cookies_enabled'].unique())"
   ]
  },
  {
   "cell_type": "code",
   "execution_count": 4,
   "id": "03df2405",
   "metadata": {},
   "outputs": [
    {
     "name": "stdout",
     "output_type": "stream",
     "text": [
      "[0 1 2 3 4 5]\n"
     ]
    }
   ],
   "source": [
    "data['device_memory'],_ = pd.factorize(data['device_memory']) # Medio=0; Baixo=1; Alto=2\n",
    "print(data['device_memory'].unique())"
   ]
  },
  {
   "cell_type": "code",
   "execution_count": 5,
   "id": "cd0f3e4e",
   "metadata": {},
   "outputs": [
    {
     "name": "stdout",
     "output_type": "stream",
     "text": [
      "[0 1 2 3 4 5 6]\n"
     ]
    }
   ],
   "source": [
    "data['hardware_concurrency'],_ = pd.factorize(data['hardware_concurrency']) # Medio=0; Baixo=1; Alto=2\n",
    "print(data['hardware_concurrency'].unique())"
   ]
  },
  {
   "cell_type": "code",
   "execution_count": 6,
   "id": "7f7f53d4",
   "metadata": {},
   "outputs": [
    {
     "name": "stdout",
     "output_type": "stream",
     "text": [
      "[ 0  1  2  3  4  5  6  7  8  9 10 11 12 13 14 15 16 17 18 19 20 21 22 23\n",
      " 24 25 26 27 28 29 30 31 32 33 34 35 36 37 38 39 40 41 42 43 44 45 46 47\n",
      " 48 49 50 51 52 53 54 55 56 57 58 59 60 61 62 63 64 65 66 67 68 69 70 71\n",
      " 72 73 74 75 76 77 78 79 80 81 82 83 84 85 86 87 88 89 90 91]\n"
     ]
    }
   ],
   "source": [
    "data['ip'],_ = pd.factorize(data['ip']) # Medio=0; Baixo=1; Alto=2\n",
    "print(data['ip'].unique())"
   ]
  },
  {
   "cell_type": "code",
   "execution_count": 7,
   "id": "8cd479d7",
   "metadata": {},
   "outputs": [
    {
     "name": "stdout",
     "output_type": "stream",
     "text": [
      "[ 0  1  2  3  4  5  6  7  8  9 10 11]\n"
     ]
    }
   ],
   "source": [
    "data['languages'],_ = pd.factorize(data['languages']) # Medio=0; Baixo=1; Alto=2\n",
    "print(data['languages'].unique())"
   ]
  },
  {
   "cell_type": "code",
   "execution_count": 8,
   "id": "d2b16fc7",
   "metadata": {},
   "outputs": [
    {
     "name": "stdout",
     "output_type": "stream",
     "text": [
      "[0 1]\n"
     ]
    }
   ],
   "source": [
    "data['local_storage'],_ = pd.factorize(data['local_storage']) # Medio=0; Baixo=1; Alto=2\n",
    "print(data['local_storage'].unique())"
   ]
  },
  {
   "cell_type": "code",
   "execution_count": 9,
   "id": "f50c1a8d",
   "metadata": {},
   "outputs": [
    {
     "name": "stdout",
     "output_type": "stream",
     "text": [
      "[ 0  1  2  3  4  5  6  7  8  9 10 11]\n"
     ]
    }
   ],
   "source": [
    "data['platform'],_ = pd.factorize(data['platform']) # Medio=0; Baixo=1; Alto=2\n",
    "print(data['platform'].unique())"
   ]
  },
  {
   "cell_type": "code",
   "execution_count": 10,
   "id": "9a1ab668",
   "metadata": {},
   "outputs": [
    {
     "name": "stdout",
     "output_type": "stream",
     "text": [
      "[0 1]\n"
     ]
    }
   ],
   "source": [
    "data['session_storage'],_ = pd.factorize(data['session_storage']) # Medio=0; Baixo=1; Alto=2\n",
    "print(data['session_storage'].unique())"
   ]
  },
  {
   "cell_type": "code",
   "execution_count": 11,
   "id": "9733e3a9",
   "metadata": {},
   "outputs": [
    {
     "name": "stdout",
     "output_type": "stream",
     "text": [
      "[ 0  1  2  3  4  5  6  7  8  9 10 11 12 13 14 15 16 17 18 19 20 21 22 23\n",
      " 24 25 26 27 28 29 30 31 32 33 34 35 36 37 38 39 40 41 42 43 44 45 46 47]\n"
     ]
    }
   ],
   "source": [
    "data['timezone'],_ = pd.factorize(data['timezone']) # Medio=0; Baixo=1; Alto=2\n",
    "print(data['timezone'].unique())"
   ]
  },
  {
   "cell_type": "code",
   "execution_count": 12,
   "id": "910d3ec7",
   "metadata": {},
   "outputs": [
    {
     "name": "stdout",
     "output_type": "stream",
     "text": [
      "[0 1]\n"
     ]
    }
   ],
   "source": [
    "data['touch_support'],_ = pd.factorize(data['touch_support']) # Medio=0; Baixo=1; Alto=2\n",
    "print(data['touch_support'].unique())"
   ]
  },
  {
   "cell_type": "code",
   "execution_count": 13,
   "id": "53af0eb4",
   "metadata": {},
   "outputs": [
    {
     "name": "stdout",
     "output_type": "stream",
     "text": [
      "[0 1 2 3 4 5 6 7]\n"
     ]
    }
   ],
   "source": [
    "data['browser'],_ = pd.factorize(data['browser']) # Medio=0; Baixo=1; Alto=2\n",
    "print(data['browser'].unique())"
   ]
  },
  {
   "cell_type": "code",
   "execution_count": 14,
   "id": "d8a8ac5d",
   "metadata": {},
   "outputs": [
    {
     "name": "stdout",
     "output_type": "stream",
     "text": [
      "[ 0  1  2  3  4  5  6  7  8  9 10 11 12 13 14 15 16 17 18 19 20 21 22 23\n",
      " 24 25 26 27 28 29 30 31 32 33 34 35 36 37 38]\n"
     ]
    }
   ],
   "source": [
    "data['browser_version'],_ = pd.factorize(data['browser_version']) # Medio=0; Baixo=1; Alto=2\n",
    "print(data['browser_version'].unique())"
   ]
  },
  {
   "cell_type": "code",
   "execution_count": 15,
   "id": "c99437e5",
   "metadata": {},
   "outputs": [
    {
     "name": "stdout",
     "output_type": "stream",
     "text": [
      "[ 0  1  2  3  4  5  6  7  8  9 10 11 12 13 14 15 16 17 18 19 20 21 22 23\n",
      " 24 25 26 27 28 29 30 31 32 33 34 35 36 37 38 39 40]\n"
     ]
    }
   ],
   "source": [
    "data['gpu'],_ = pd.factorize(data['gpu']) # Medio=0; Baixo=1; Alto=2\n",
    "print(data['gpu'].unique())"
   ]
  },
  {
   "cell_type": "code",
   "execution_count": 16,
   "id": "f3020502",
   "metadata": {},
   "outputs": [
    {
     "name": "stdout",
     "output_type": "stream",
     "text": [
      "[ 0  1  2  3  4  5  6  7  8  9 10 11 12 13 14 15 16 17 18 19 20 21 22 23\n",
      " 24 25 26 27 28 29 30 31 32 33 34 35 36 37 38 39 40]\n"
     ]
    }
   ],
   "source": [
    "data['gpu'],_ = pd.factorize(data['gpu']) # Medio=0; Baixo=1; Alto=2\n",
    "print(data['gpu'].unique())"
   ]
  },
  {
   "cell_type": "code",
   "execution_count": 17,
   "id": "c8ebe857",
   "metadata": {},
   "outputs": [
    {
     "name": "stdout",
     "output_type": "stream",
     "text": [
      "[ 0  1  2  3  4  5  6  7  8  9 10 11 12 13 14 15 16 17 18 19 20 21 22 23\n",
      " 24 25 26 27 28 29 30 31 32 33 34 35 36 37 38 39 40 41 42 43 44 45 46 47\n",
      " 48 49 50 51 52 53 54 55 56 57 58 59 60 61 62 63 64 65 66 67 68 69 70 71\n",
      " 72 73 74 75 76 77]\n"
     ]
    }
   ],
   "source": [
    "data['hash'],_ = pd.factorize(data['hash']) # Medio=0; Baixo=1; Alto=2\n",
    "print(data['hash'].unique())"
   ]
  },
  {
   "cell_type": "code",
   "execution_count": 18,
   "id": "38065e00",
   "metadata": {},
   "outputs": [
    {
     "data": {
      "text/html": [
       "<div>\n",
       "<style scoped>\n",
       "    .dataframe tbody tr th:only-of-type {\n",
       "        vertical-align: middle;\n",
       "    }\n",
       "\n",
       "    .dataframe tbody tr th {\n",
       "        vertical-align: top;\n",
       "    }\n",
       "\n",
       "    .dataframe thead th {\n",
       "        text-align: right;\n",
       "    }\n",
       "</style>\n",
       "<table border=\"1\" class=\"dataframe\">\n",
       "  <thead>\n",
       "    <tr style=\"text-align: right;\">\n",
       "      <th></th>\n",
       "      <th>usuario_id</th>\n",
       "      <th>cookies_enabled</th>\n",
       "      <th>device_memory</th>\n",
       "      <th>hardware_concurrency</th>\n",
       "      <th>ip</th>\n",
       "      <th>languages</th>\n",
       "      <th>local_storage</th>\n",
       "      <th>platform</th>\n",
       "      <th>session_storage</th>\n",
       "      <th>timezone</th>\n",
       "      <th>touch_support</th>\n",
       "      <th>browser</th>\n",
       "      <th>browser_version</th>\n",
       "      <th>gpu</th>\n",
       "      <th>hash</th>\n",
       "    </tr>\n",
       "  </thead>\n",
       "  <tbody>\n",
       "    <tr>\n",
       "      <th>0</th>\n",
       "      <td>1</td>\n",
       "      <td>0</td>\n",
       "      <td>0</td>\n",
       "      <td>0</td>\n",
       "      <td>0</td>\n",
       "      <td>0</td>\n",
       "      <td>0</td>\n",
       "      <td>0</td>\n",
       "      <td>0</td>\n",
       "      <td>0</td>\n",
       "      <td>0</td>\n",
       "      <td>0</td>\n",
       "      <td>0</td>\n",
       "      <td>0</td>\n",
       "      <td>0</td>\n",
       "    </tr>\n",
       "    <tr>\n",
       "      <th>1</th>\n",
       "      <td>2</td>\n",
       "      <td>0</td>\n",
       "      <td>0</td>\n",
       "      <td>1</td>\n",
       "      <td>1</td>\n",
       "      <td>0</td>\n",
       "      <td>0</td>\n",
       "      <td>0</td>\n",
       "      <td>0</td>\n",
       "      <td>0</td>\n",
       "      <td>0</td>\n",
       "      <td>1</td>\n",
       "      <td>1</td>\n",
       "      <td>1</td>\n",
       "      <td>1</td>\n",
       "    </tr>\n",
       "    <tr>\n",
       "      <th>2</th>\n",
       "      <td>1</td>\n",
       "      <td>1</td>\n",
       "      <td>0</td>\n",
       "      <td>2</td>\n",
       "      <td>2</td>\n",
       "      <td>0</td>\n",
       "      <td>0</td>\n",
       "      <td>0</td>\n",
       "      <td>0</td>\n",
       "      <td>0</td>\n",
       "      <td>0</td>\n",
       "      <td>2</td>\n",
       "      <td>2</td>\n",
       "      <td>1</td>\n",
       "      <td>1</td>\n",
       "    </tr>\n",
       "    <tr>\n",
       "      <th>3</th>\n",
       "      <td>2</td>\n",
       "      <td>1</td>\n",
       "      <td>1</td>\n",
       "      <td>1</td>\n",
       "      <td>3</td>\n",
       "      <td>0</td>\n",
       "      <td>0</td>\n",
       "      <td>1</td>\n",
       "      <td>0</td>\n",
       "      <td>0</td>\n",
       "      <td>0</td>\n",
       "      <td>3</td>\n",
       "      <td>3</td>\n",
       "      <td>0</td>\n",
       "      <td>2</td>\n",
       "    </tr>\n",
       "    <tr>\n",
       "      <th>4</th>\n",
       "      <td>3</td>\n",
       "      <td>1</td>\n",
       "      <td>0</td>\n",
       "      <td>2</td>\n",
       "      <td>4</td>\n",
       "      <td>0</td>\n",
       "      <td>0</td>\n",
       "      <td>0</td>\n",
       "      <td>0</td>\n",
       "      <td>0</td>\n",
       "      <td>0</td>\n",
       "      <td>2</td>\n",
       "      <td>2</td>\n",
       "      <td>1</td>\n",
       "      <td>3</td>\n",
       "    </tr>\n",
       "    <tr>\n",
       "      <th>...</th>\n",
       "      <td>...</td>\n",
       "      <td>...</td>\n",
       "      <td>...</td>\n",
       "      <td>...</td>\n",
       "      <td>...</td>\n",
       "      <td>...</td>\n",
       "      <td>...</td>\n",
       "      <td>...</td>\n",
       "      <td>...</td>\n",
       "      <td>...</td>\n",
       "      <td>...</td>\n",
       "      <td>...</td>\n",
       "      <td>...</td>\n",
       "      <td>...</td>\n",
       "      <td>...</td>\n",
       "    </tr>\n",
       "    <tr>\n",
       "      <th>97</th>\n",
       "      <td>96</td>\n",
       "      <td>1</td>\n",
       "      <td>1</td>\n",
       "      <td>2</td>\n",
       "      <td>90</td>\n",
       "      <td>10</td>\n",
       "      <td>0</td>\n",
       "      <td>3</td>\n",
       "      <td>0</td>\n",
       "      <td>45</td>\n",
       "      <td>1</td>\n",
       "      <td>2</td>\n",
       "      <td>5</td>\n",
       "      <td>32</td>\n",
       "      <td>74</td>\n",
       "    </tr>\n",
       "    <tr>\n",
       "      <th>98</th>\n",
       "      <td>97</td>\n",
       "      <td>1</td>\n",
       "      <td>1</td>\n",
       "      <td>2</td>\n",
       "      <td>90</td>\n",
       "      <td>10</td>\n",
       "      <td>0</td>\n",
       "      <td>3</td>\n",
       "      <td>0</td>\n",
       "      <td>45</td>\n",
       "      <td>1</td>\n",
       "      <td>2</td>\n",
       "      <td>5</td>\n",
       "      <td>32</td>\n",
       "      <td>74</td>\n",
       "    </tr>\n",
       "    <tr>\n",
       "      <th>99</th>\n",
       "      <td>98</td>\n",
       "      <td>0</td>\n",
       "      <td>5</td>\n",
       "      <td>1</td>\n",
       "      <td>85</td>\n",
       "      <td>11</td>\n",
       "      <td>0</td>\n",
       "      <td>3</td>\n",
       "      <td>1</td>\n",
       "      <td>46</td>\n",
       "      <td>1</td>\n",
       "      <td>2</td>\n",
       "      <td>21</td>\n",
       "      <td>40</td>\n",
       "      <td>75</td>\n",
       "    </tr>\n",
       "    <tr>\n",
       "      <th>100</th>\n",
       "      <td>99</td>\n",
       "      <td>1</td>\n",
       "      <td>1</td>\n",
       "      <td>2</td>\n",
       "      <td>91</td>\n",
       "      <td>11</td>\n",
       "      <td>1</td>\n",
       "      <td>2</td>\n",
       "      <td>1</td>\n",
       "      <td>46</td>\n",
       "      <td>0</td>\n",
       "      <td>2</td>\n",
       "      <td>22</td>\n",
       "      <td>28</td>\n",
       "      <td>76</td>\n",
       "    </tr>\n",
       "    <tr>\n",
       "      <th>101</th>\n",
       "      <td>100</td>\n",
       "      <td>0</td>\n",
       "      <td>1</td>\n",
       "      <td>2</td>\n",
       "      <td>91</td>\n",
       "      <td>11</td>\n",
       "      <td>0</td>\n",
       "      <td>0</td>\n",
       "      <td>0</td>\n",
       "      <td>47</td>\n",
       "      <td>0</td>\n",
       "      <td>6</td>\n",
       "      <td>3</td>\n",
       "      <td>28</td>\n",
       "      <td>77</td>\n",
       "    </tr>\n",
       "  </tbody>\n",
       "</table>\n",
       "<p>102 rows × 15 columns</p>\n",
       "</div>"
      ],
      "text/plain": [
       "     usuario_id  cookies_enabled  device_memory  hardware_concurrency  ip  \\\n",
       "0             1                0              0                     0   0   \n",
       "1             2                0              0                     1   1   \n",
       "2             1                1              0                     2   2   \n",
       "3             2                1              1                     1   3   \n",
       "4             3                1              0                     2   4   \n",
       "..          ...              ...            ...                   ...  ..   \n",
       "97           96                1              1                     2  90   \n",
       "98           97                1              1                     2  90   \n",
       "99           98                0              5                     1  85   \n",
       "100          99                1              1                     2  91   \n",
       "101         100                0              1                     2  91   \n",
       "\n",
       "     languages  local_storage  platform  session_storage  timezone  \\\n",
       "0            0              0         0                0         0   \n",
       "1            0              0         0                0         0   \n",
       "2            0              0         0                0         0   \n",
       "3            0              0         1                0         0   \n",
       "4            0              0         0                0         0   \n",
       "..         ...            ...       ...              ...       ...   \n",
       "97          10              0         3                0        45   \n",
       "98          10              0         3                0        45   \n",
       "99          11              0         3                1        46   \n",
       "100         11              1         2                1        46   \n",
       "101         11              0         0                0        47   \n",
       "\n",
       "     touch_support  browser  browser_version  gpu  hash  \n",
       "0                0        0                0    0     0  \n",
       "1                0        1                1    1     1  \n",
       "2                0        2                2    1     1  \n",
       "3                0        3                3    0     2  \n",
       "4                0        2                2    1     3  \n",
       "..             ...      ...              ...  ...   ...  \n",
       "97               1        2                5   32    74  \n",
       "98               1        2                5   32    74  \n",
       "99               1        2               21   40    75  \n",
       "100              0        2               22   28    76  \n",
       "101              0        6                3   28    77  \n",
       "\n",
       "[102 rows x 15 columns]"
      ]
     },
     "execution_count": 18,
     "metadata": {},
     "output_type": "execute_result"
    }
   ],
   "source": [
    "data"
   ]
  },
  {
   "cell_type": "code",
   "execution_count": 19,
   "id": "9e63c1f1",
   "metadata": {},
   "outputs": [
    {
     "data": {
      "text/plain": [
       "KMeans(init='random', n_clusters=3)"
      ]
     },
     "execution_count": 19,
     "metadata": {},
     "output_type": "execute_result"
    }
   ],
   "source": [
    "kmeans = KMeans(n_clusters = 3, init = 'random')\n",
    "kmeans"
   ]
  },
  {
   "cell_type": "code",
   "execution_count": 20,
   "id": "3b417db1",
   "metadata": {
    "scrolled": true
   },
   "outputs": [
    {
     "data": {
      "text/plain": [
       "KMeans(init='random', n_clusters=3)"
      ]
     },
     "execution_count": 20,
     "metadata": {},
     "output_type": "execute_result"
    }
   ],
   "source": [
    "kmeans.fit(data)\n"
   ]
  },
  {
   "cell_type": "code",
   "execution_count": 21,
   "id": "6ab19a97",
   "metadata": {},
   "outputs": [
    {
     "data": {
      "text/plain": [
       "array([[5.33030303e+01, 3.63636364e-01, 2.78787879e+00, 2.60606061e+00,\n",
       "        4.68484848e+01, 4.66666667e+00, 7.27272727e-01, 2.60606061e+00,\n",
       "        1.21212121e-01, 2.09090909e+01, 3.03030303e-01, 3.66666667e+00,\n",
       "        1.46969697e+01, 1.59393939e+01, 3.80606061e+01],\n",
       "       [1.77894737e+01, 3.42105263e-01, 9.73684211e-01, 2.26315789e+00,\n",
       "        1.72894737e+01, 1.15789474e+00, 3.68421053e-01, 2.10526316e+00,\n",
       "        2.63157895e-02, 5.05263158e+00, 2.63157895e-01, 2.86842105e+00,\n",
       "        5.44736842e+00, 5.60526316e+00, 1.28157895e+01],\n",
       "       [8.44516129e+01, 3.22580645e-01, 1.48387097e+00, 1.54838710e+00,\n",
       "        7.85806452e+01, 8.45161290e+00, 3.54838710e-01, 3.67741935e+00,\n",
       "        2.90322581e-01, 3.73870968e+01, 2.90322581e-01, 3.38709677e+00,\n",
       "        1.95161290e+01, 2.89032258e+01, 6.33225806e+01]])"
      ]
     },
     "execution_count": 21,
     "metadata": {},
     "output_type": "execute_result"
    }
   ],
   "source": [
    "kmeans.cluster_centers_\n"
   ]
  },
  {
   "cell_type": "code",
   "execution_count": 22,
   "id": "c15cdf2b",
   "metadata": {
    "scrolled": true
   },
   "outputs": [
    {
     "data": {
      "text/plain": [
       "KMeans(init='random', n_clusters=3)"
      ]
     },
     "execution_count": 22,
     "metadata": {},
     "output_type": "execute_result"
    }
   ],
   "source": [
    "kmeans.fit(data)"
   ]
  },
  {
   "cell_type": "code",
   "execution_count": 23,
   "id": "7bbd7625",
   "metadata": {
    "scrolled": true
   },
   "outputs": [
    {
     "data": {
      "text/plain": [
       "array([[1.77894737e+01, 3.42105263e-01, 9.73684211e-01, 2.26315789e+00,\n",
       "        1.72894737e+01, 1.15789474e+00, 3.68421053e-01, 2.10526316e+00,\n",
       "        2.63157895e-02, 5.05263158e+00, 2.63157895e-01, 2.86842105e+00,\n",
       "        5.44736842e+00, 5.60526316e+00, 1.28157895e+01],\n",
       "       [5.33030303e+01, 3.63636364e-01, 2.78787879e+00, 2.60606061e+00,\n",
       "        4.68484848e+01, 4.66666667e+00, 7.27272727e-01, 2.60606061e+00,\n",
       "        1.21212121e-01, 2.09090909e+01, 3.03030303e-01, 3.66666667e+00,\n",
       "        1.46969697e+01, 1.59393939e+01, 3.80606061e+01],\n",
       "       [8.44516129e+01, 3.22580645e-01, 1.48387097e+00, 1.54838710e+00,\n",
       "        7.85806452e+01, 8.45161290e+00, 3.54838710e-01, 3.67741935e+00,\n",
       "        2.90322581e-01, 3.73870968e+01, 2.90322581e-01, 3.38709677e+00,\n",
       "        1.95161290e+01, 2.89032258e+01, 6.33225806e+01]])"
      ]
     },
     "execution_count": 23,
     "metadata": {},
     "output_type": "execute_result"
    }
   ],
   "source": [
    "kmeans.cluster_centers_"
   ]
  },
  {
   "cell_type": "code",
   "execution_count": 24,
   "id": "b3e3c84d",
   "metadata": {
    "scrolled": true
   },
   "outputs": [
    {
     "data": {
      "text/plain": [
       "array([[ 85.69479445,  29.19027273, 140.94088472],\n",
       "       [ 83.68007751,  27.07238681, 138.97450713],\n",
       "       [ 83.56193988,  26.87139785, 138.87442954],\n",
       "       [ 81.94357395,  25.26321272, 137.32141747],\n",
       "       [ 80.36012264,  23.63245808, 135.67861963],\n",
       "       [ 80.10404735,  23.47716519, 135.50947147],\n",
       "       [ 78.92549753,  22.32342223, 134.35921071],\n",
       "       [ 78.00888203,  21.42105263, 133.35803405],\n",
       "       [ 75.17146607,  18.46671033, 130.53121275],\n",
       "       [ 73.75629963,  17.10089013, 129.07778632],\n",
       "       [ 74.49704637,  18.44389561, 129.89242728],\n",
       "       [ 70.49494443,  13.95362323, 125.88888118],\n",
       "       [ 68.57880388,  12.13817038, 123.9659582 ],\n",
       "       [ 66.23002324,  10.19640912, 121.66868319],\n",
       "       [ 64.39572903,   8.48021977, 119.76298133],\n",
       "       [ 62.19464248,   6.85706866, 117.54331015],\n",
       "       [ 60.36849652,   6.5709425 , 115.8243    ],\n",
       "       [ 58.5873415 ,   6.37168251, 114.06411929],\n",
       "       [ 56.75351472,   7.75740197, 112.13979216],\n",
       "       [ 56.65759124,   6.18728927, 111.61285661],\n",
       "       [ 52.52408604,   8.43042242, 107.7591883 ],\n",
       "       [ 52.50590941,   7.8885941 , 107.44755999],\n",
       "       [ 50.2393445 ,  10.18349651, 105.00035677],\n",
       "       [ 47.96012462,  12.12732543, 102.77462386],\n",
       "       [ 45.97981351,  12.35306998, 100.85542552],\n",
       "       [ 43.87023816,  14.65276769,  98.8307975 ],\n",
       "       [ 42.90925141,  16.64073699,  97.37776831],\n",
       "       [ 42.25633439,  17.09781214,  96.7704838 ],\n",
       "       [ 41.6172048 ,  17.59989297,  96.16976297],\n",
       "       [ 40.99250755,  18.14324352,  95.57572957],\n",
       "       [ 37.06085384,  21.35953925,  92.12217039],\n",
       "       [ 35.62035819,  24.14143459,  90.34098891],\n",
       "       [ 36.69849608,  25.06346515,  91.38492192],\n",
       "       [ 35.24018336,  24.54895048,  89.88977526],\n",
       "       [ 33.43185166,  28.28275318,  87.95734351],\n",
       "       [ 28.00688621,  31.6255796 ,  82.57476037],\n",
       "       [ 32.25641927,  29.40673788,  86.8025796 ],\n",
       "       [ 25.84201845,  34.90541235,  80.0055084 ],\n",
       "       [ 25.31601917,  34.72248507,  79.93532115],\n",
       "       [ 35.69768997,  25.16719714,  90.03159348],\n",
       "       [ 35.28057551,  25.97708344,  89.51974419],\n",
       "       [ 25.64839606,  35.31614244,  79.45303392],\n",
       "       [ 22.7487777 ,  38.79118756,  75.40414179],\n",
       "       [ 18.94787689,  40.938573  ,  72.51503127],\n",
       "       [ 19.71288401,  43.09131578,  72.96913236],\n",
       "       [ 19.69904418,  42.39685218,  71.73682246],\n",
       "       [ 16.09510303,  45.67584207,  68.09536069],\n",
       "       [ 16.59748728,  47.04777439,  67.25740697],\n",
       "       [ 13.33453851,  48.31713678,  65.10817861],\n",
       "       [ 10.75164156,  52.94702836,  61.25944893],\n",
       "       [  9.95250429,  54.65940879,  59.65446812],\n",
       "       [ 12.20869942,  57.50943557,  57.88930554],\n",
       "       [ 15.9095238 ,  54.83725607,  62.93886501],\n",
       "       [ 17.83147309,  55.36879628,  61.86935314],\n",
       "       [ 15.82262216,  53.94557122,  62.42190542],\n",
       "       [ 12.62480396,  63.4339144 ,  51.8401148 ],\n",
       "       [ 16.06966583,  66.22385022,  50.3245347 ],\n",
       "       [ 18.96466193,  61.66307793,  56.3955851 ],\n",
       "       [ 19.55468422,  66.94316852,  52.8577893 ],\n",
       "       [ 18.19567654,  70.83426484,  45.18611069],\n",
       "       [ 19.4482431 ,  72.62751705,  43.40778976],\n",
       "       [ 20.47816818,  74.17808175,  41.93632753],\n",
       "       [ 24.25228966,  76.9816685 ,  41.04573475],\n",
       "       [ 22.92724149,  77.59319301,  38.37519469],\n",
       "       [ 25.1141197 ,  76.65142166,  39.72052471],\n",
       "       [ 24.86431499,  80.03300912,  35.78760038],\n",
       "       [ 25.99401287,  80.90259524,  35.6023389 ],\n",
       "       [ 26.73139527,  78.93113868,  37.81803742],\n",
       "       [ 29.01343851,  72.46319153,  52.45899246],\n",
       "       [ 30.12133406,  83.912664  ,  31.81616681],\n",
       "       [ 31.36622739,  87.45776979,  26.28400874],\n",
       "       [ 32.60076559,  88.75850394,  25.19877274],\n",
       "       [ 36.40085217,  89.43105796,  28.84291302],\n",
       "       [ 35.45664329,  89.84148861,  26.16838932],\n",
       "       [ 41.14819016,  96.63914659,  22.13472136],\n",
       "       [ 42.18851175,  98.03822252,  19.2130018 ],\n",
       "       [ 41.75278153,  97.73658702,  20.50517054],\n",
       "       [ 47.2288841 , 102.85180151,  18.3990906 ],\n",
       "       [ 47.73815172, 101.35252922,  21.61266249],\n",
       "       [ 47.67590309, 101.18309834,  22.36668215],\n",
       "       [ 50.40614659, 104.1682264 ,  29.21959273],\n",
       "       [ 54.0010458 , 109.70567524,  16.11383155],\n",
       "       [ 53.99403089, 110.033815  ,  15.67854768],\n",
       "       [ 55.96934423, 110.03907641,  19.32099191],\n",
       "       [ 57.01055917, 113.14019445,   7.76743114],\n",
       "       [ 59.9076884 , 113.97353534,  19.51204969],\n",
       "       [ 59.46828217, 115.87092829,   7.13311808],\n",
       "       [ 45.92639938,  69.83980482,  77.1384015 ],\n",
       "       [ 59.70577539, 114.55827486,  18.53620919],\n",
       "       [ 62.24772778, 118.75325335,   8.51814492],\n",
       "       [ 63.99425336, 120.52459204,  10.71225193],\n",
       "       [ 71.05071327, 127.10922953,  21.35440015],\n",
       "       [ 63.08885684, 112.04166716,  46.09958456],\n",
       "       [ 72.40013546, 128.63092213,  22.94616602],\n",
       "       [ 74.07157212, 128.86945014,  24.96276103],\n",
       "       [ 79.37897731, 135.28087125,  28.87979681],\n",
       "       [ 74.9724651 , 131.43927323,  23.69314763],\n",
       "       [ 77.10672008, 132.3661923 ,  25.73771087],\n",
       "       [ 77.66492272, 132.9595048 ,  26.20165138],\n",
       "       [ 78.22088524, 134.55430686,  24.15429073],\n",
       "       [ 79.7086983 , 136.28054818,  24.91813861],\n",
       "       [ 81.64515374, 136.71144572,  31.25303731]])"
      ]
     },
     "execution_count": 24,
     "metadata": {},
     "output_type": "execute_result"
    }
   ],
   "source": [
    "distance = kmeans.fit_transform(data)\n",
    "distance"
   ]
  },
  {
   "cell_type": "code",
   "execution_count": 25,
   "id": "4ac3ef2a",
   "metadata": {
    "scrolled": true
   },
   "outputs": [
    {
     "data": {
      "text/plain": [
       "array([1, 1, 1, 1, 1, 1, 1, 1, 1, 1, 1, 1, 1, 1, 1, 1, 1, 1, 1, 1, 1, 1,\n",
       "       1, 1, 1, 1, 1, 1, 1, 1, 1, 1, 1, 1, 1, 0, 1, 0, 0, 1, 1, 0, 0, 0,\n",
       "       0, 0, 0, 0, 0, 0, 0, 0, 0, 0, 0, 0, 0, 0, 0, 0, 0, 0, 0, 0, 0, 0,\n",
       "       0, 0, 0, 0, 2, 2, 2, 2, 2, 2, 2, 2, 2, 2, 2, 2, 2, 2, 2, 2, 2, 0,\n",
       "       2, 2, 2, 2, 2, 2, 2, 2, 2, 2, 2, 2, 2, 2])"
      ]
     },
     "execution_count": 25,
     "metadata": {},
     "output_type": "execute_result"
    }
   ],
   "source": [
    "labels = kmeans.labels_\n",
    "labels"
   ]
  },
  {
   "cell_type": "code",
   "execution_count": 26,
   "id": "002eb0e4",
   "metadata": {
    "scrolled": true
   },
   "outputs": [
    {
     "data": {
      "text/plain": [
       "array([[5.33030303e+01, 3.63636364e-01, 2.78787879e+00, 2.60606061e+00,\n",
       "        4.68484848e+01, 4.66666667e+00, 7.27272727e-01, 2.60606061e+00,\n",
       "        1.21212121e-01, 2.09090909e+01, 3.03030303e-01, 3.66666667e+00,\n",
       "        1.46969697e+01, 1.59393939e+01, 3.80606061e+01],\n",
       "       [1.77894737e+01, 3.42105263e-01, 9.73684211e-01, 2.26315789e+00,\n",
       "        1.72894737e+01, 1.15789474e+00, 3.68421053e-01, 2.10526316e+00,\n",
       "        2.63157895e-02, 5.05263158e+00, 2.63157895e-01, 2.86842105e+00,\n",
       "        5.44736842e+00, 5.60526316e+00, 1.28157895e+01],\n",
       "       [8.44516129e+01, 3.22580645e-01, 1.48387097e+00, 1.54838710e+00,\n",
       "        7.85806452e+01, 8.45161290e+00, 3.54838710e-01, 3.67741935e+00,\n",
       "        2.90322581e-01, 3.73870968e+01, 2.90322581e-01, 3.38709677e+00,\n",
       "        1.95161290e+01, 2.89032258e+01, 6.33225806e+01]])"
      ]
     },
     "execution_count": 26,
     "metadata": {},
     "output_type": "execute_result"
    }
   ],
   "source": [
    "kmeans.cluster_centers_"
   ]
  },
  {
   "cell_type": "code",
   "execution_count": 27,
   "id": "5e748653",
   "metadata": {},
   "outputs": [
    {
     "name": "stdout",
     "output_type": "stream",
     "text": [
      "1 263231.274509804\n",
      "2 81609.01397515526\n",
      "3 46976.2133045223\n",
      "4 34281.15475265475\n",
      "5 27758.448803827756\n",
      "6 24269.780882352945\n",
      "7 22201.486456762195\n",
      "8 18767.583939014203\n",
      "9 16501.795592642655\n"
     ]
    }
   ],
   "source": [
    "wcsse = []\n",
    "maxclusters = 10\n",
    "for i in range(1, maxclusters):\n",
    "    kmeans = KMeans(n_clusters = i, init = 'random')\n",
    "    kmeans.fit(data)\n",
    "    print (i,kmeans.inertia_)\n",
    "    wcsse.append(kmeans.inertia_)"
   ]
  },
  {
   "cell_type": "code",
   "execution_count": 28,
   "id": "5dd19246",
   "metadata": {
    "scrolled": true
   },
   "outputs": [
    {
     "data": {
      "image/png": "[encoded data removed]",
      "text/plain": [
       "<Figure size 432x288 with 1 Axes>"
      ]
     },
     "metadata": {
      "needs_background": "light"
     },
     "output_type": "display_data"
    }
   ],
   "source": [
    "plt.plot(range(1, maxclusters), wcsse)\n",
    "plt.title('Método de Elbow')\n",
    "plt.xlabel('Qtd. de Clusters')\n",
    "plt.grid()\n",
    "plt.ylabel('WCSSE') # Within Cluster Sum of Squares\n",
    "plt.show()"
   ]
  },
  {
   "cell_type": "code",
   "execution_count": 29,
   "id": "94117ac3",
   "metadata": {},
   "outputs": [
    {
     "data": {
      "text/html": [
       "<div>\n",
       "<style scoped>\n",
       "    .dataframe tbody tr th:only-of-type {\n",
       "        vertical-align: middle;\n",
       "    }\n",
       "\n",
       "    .dataframe tbody tr th {\n",
       "        vertical-align: top;\n",
       "    }\n",
       "\n",
       "    .dataframe thead th {\n",
       "        text-align: right;\n",
       "    }\n",
       "</style>\n",
       "<table border=\"1\" class=\"dataframe\">\n",
       "  <thead>\n",
       "    <tr style=\"text-align: right;\">\n",
       "      <th></th>\n",
       "      <th>usuario_id</th>\n",
       "      <th>cookies_enabled</th>\n",
       "      <th>device_memory</th>\n",
       "      <th>hardware_concurrency</th>\n",
       "      <th>ip</th>\n",
       "      <th>languages</th>\n",
       "      <th>local_storage</th>\n",
       "      <th>platform</th>\n",
       "      <th>session_storage</th>\n",
       "      <th>timezone</th>\n",
       "      <th>touch_support</th>\n",
       "      <th>browser</th>\n",
       "      <th>browser_version</th>\n",
       "      <th>gpu</th>\n",
       "      <th>hash</th>\n",
       "    </tr>\n",
       "  </thead>\n",
       "  <tbody>\n",
       "    <tr>\n",
       "      <th>15</th>\n",
       "      <td>14</td>\n",
       "      <td>0</td>\n",
       "      <td>1</td>\n",
       "      <td>1</td>\n",
       "      <td>15</td>\n",
       "      <td>1</td>\n",
       "      <td>1</td>\n",
       "      <td>3</td>\n",
       "      <td>0</td>\n",
       "      <td>2</td>\n",
       "      <td>1</td>\n",
       "      <td>3</td>\n",
       "      <td>8</td>\n",
       "      <td>6</td>\n",
       "      <td>10</td>\n",
       "    </tr>\n",
       "  </tbody>\n",
       "</table>\n",
       "</div>"
      ],
      "text/plain": [
       "    usuario_id  cookies_enabled  device_memory  hardware_concurrency  ip  \\\n",
       "15          14                0              1                     1  15   \n",
       "\n",
       "    languages  local_storage  platform  session_storage  timezone  \\\n",
       "15          1              1         3                0         2   \n",
       "\n",
       "    touch_support  browser  browser_version  gpu  hash  \n",
       "15              1        3                8    6    10  "
      ]
     },
     "execution_count": 29,
     "metadata": {},
     "output_type": "execute_result"
    }
   ],
   "source": [
    "data.sample(1)"
   ]
  },
  {
   "cell_type": "code",
   "execution_count": 35,
   "id": "42496524",
   "metadata": {},
   "outputs": [
    {
     "data": {
      "image/png": "[encoded data removed]",
      "text/plain": [
       "<Figure size 432x288 with 1 Axes>"
      ]
     },
     "metadata": {
      "needs_background": "light"
     },
     "output_type": "display_data"
    }
   ],
   "source": [
    "X = data[[\"hash\",\"ip\"]]\n",
    "#Visualise data points\n",
    "plt.scatter(X[\"ip\"],X[\"hash\"],c='green')\n",
    "plt.xlabel('ip')\n",
    "plt.ylabel('hash')\n",
    "plt.show()"
   ]
  },
  {
   "cell_type": "code",
   "execution_count": 36,
   "id": "93f4401f",
   "metadata": {},
   "outputs": [
    {
     "data": {
      "image/png": "[encoded data removed]",
      "text/plain": [
       "<Figure size 432x288 with 1 Axes>"
      ]
     },
     "metadata": {
      "needs_background": "light"
     },
     "output_type": "display_data"
    }
   ],
   "source": [
    "# Step 1 and 2 - Choose the number of clusters (k) and select random centroid for each cluster\n",
    "\n",
    "#number of clusters\n",
    "K=3\n",
    "\n",
    "# Select random observation as centroids\n",
    "Centroids = (X.sample(n=K))\n",
    "plt.scatter(X[\"ip\"],X[\"hash\"],c='black')\n",
    "plt.scatter(Centroids[\"ip\"],Centroids[\"hash\"],c='red')\n",
    "plt.xlabel('ip')\n",
    "plt.ylabel('hash')\n",
    "plt.show()"
   ]
  },
  {
   "cell_type": "code",
   "execution_count": 38,
   "id": "778cf14f",
   "metadata": {},
   "outputs": [
    {
     "name": "stderr",
     "output_type": "stream",
     "text": [
      "C:\\TEMP/ipykernel_3096/3490447662.py:18: SettingWithCopyWarning: \n",
      "A value is trying to be set on a copy of a slice from a DataFrame.\n",
      "Try using .loc[row_indexer,col_indexer] = value instead\n",
      "\n",
      "See the caveats in the documentation: https://pandas.pydata.org/pandas-docs/stable/user_guide/indexing.html#returning-a-view-versus-a-copy\n",
      "  X[i]=ED\n",
      "C:\\TEMP/ipykernel_3096/3490447662.py:30: SettingWithCopyWarning: \n",
      "A value is trying to be set on a copy of a slice from a DataFrame.\n",
      "Try using .loc[row_indexer,col_indexer] = value instead\n",
      "\n",
      "See the caveats in the documentation: https://pandas.pydata.org/pandas-docs/stable/user_guide/indexing.html#returning-a-view-versus-a-copy\n",
      "  X[\"Cluster\"]=C\n"
     ]
    },
    {
     "name": "stdout",
     "output_type": "stream",
     "text": [
      "9.62860266348639\n",
      "8.744744890676106\n",
      "5.056940907375964\n",
      "5.06842001952297\n",
      "1.548818542568549\n",
      "1.7675467914438485\n",
      "3.3262267949767885\n",
      "0.0\n"
     ]
    }
   ],
   "source": [
    "# Step 3 - Assign all the points to the closest cluster centroid\n",
    "# Step 4 - Recompute centroids of newly formed clusters\n",
    "# Step 5 - Repeat step 3 and 4\n",
    "\n",
    "diff = 1\n",
    "j=0\n",
    "\n",
    "while(diff!=0):\n",
    "    XD=X\n",
    "    i=1\n",
    "    for index1,row_c in Centroids.iterrows():\n",
    "        ED=[]\n",
    "        for index2,row_d in XD.iterrows():\n",
    "            d1=(row_c[\"ip\"]-row_d[\"ip\"])**2\n",
    "            d2=(row_c[\"hash\"]-row_d[\"hash\"])**2\n",
    "            d=np.sqrt(d1+d2)\n",
    "            ED.append(d)\n",
    "        X[i]=ED\n",
    "        i=i+1\n",
    "\n",
    "    C=[]\n",
    "    for index,row in X.iterrows():\n",
    "        min_dist=row[1]\n",
    "        pos=1\n",
    "        for i in range(K):\n",
    "            if row[i+1] < min_dist:\n",
    "                min_dist = row[i+1]\n",
    "                pos=i+1\n",
    "        C.append(pos)\n",
    "    X[\"Cluster\"]=C\n",
    "    Centroids_new = X.groupby([\"Cluster\"]).mean()[[\"hash\",\"ip\"]]\n",
    "    if j == 0:\n",
    "        diff=1\n",
    "        j=j+1\n",
    "    else:\n",
    "        diff = (Centroids_new['hash'] - Centroids['hash']).sum() + (Centroids_new['ip'] - Centroids['ip']).sum()\n",
    "        print(diff.sum())\n",
    "    Centroids = X.groupby([\"Cluster\"]).mean()[[\"hash\",\"ip\"]]"
   ]
  },
  {
   "cell_type": "code",
   "execution_count": 39,
   "id": "6a15eef4",
   "metadata": {},
   "outputs": [
    {
     "data": {
      "image/png": "[encoded data removed]",
      "text/plain": [
       "<Figure size 432x288 with 1 Axes>"
      ]
     },
     "metadata": {
      "needs_background": "light"
     },
     "output_type": "display_data"
    }
   ],
   "source": [
    "color=['blue','green','gray']\n",
    "for k in range(K):\n",
    "    data=X[X[\"Cluster\"]==k+1]\n",
    "    plt.scatter(data[\"ip\"],data[\"hash\"],c=color[k])\n",
    "plt.scatter(Centroids[\"ip\"],Centroids[\"hash\"],c='red')\n",
    "plt.xlabel('ip')\n",
    "plt.ylabel('hash')\n",
    "plt.grid()\n",
    "plt.show()"
   ]
  }
 ],
 "metadata": {
  "kernelspec": {
   "display_name": "Python 3 (ipykernel)",
   "language": "python",
   "name": "python3"
  },
  "language_info": {
   "codemirror_mode": {
    "name": "ipython",
    "version": 3
   },
   "file_extension": ".py",
   "mimetype": "text/x-python",
   "name": "python",
   "nbconvert_exporter": "python",
   "pygments_lexer": "ipython3",
   "version": "3.9.7"
  }
 },
 "nbformat": 4,
 "nbformat_minor": 5
}
